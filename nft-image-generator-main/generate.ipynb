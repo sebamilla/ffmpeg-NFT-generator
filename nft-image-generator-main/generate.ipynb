{
 "cells": [
  {
   "cell_type": "code",
   "execution_count": 49,
   "metadata": {},
   "outputs": [],
   "source": [
    "from PIL import Image \n",
    "from IPython.display import display \n",
    "import random\n",
    "import json"
   ]
  },
  {
   "cell_type": "code",
   "execution_count": 50,
   "metadata": {
    "tags": []
   },
   "outputs": [],
   "source": [
    "# Each image is made up a series of traits\n",
    "# The weightings for each trait drive the rarity and add up to 100%\n",
    "\n",
    "background = [\"Blue\", \"Orange\", \"Purple\", \"Red\", \"Yellow\"] \n",
    "background_weights = [30, 40, 15, 5, 10]\n",
    "\n",
    "body = [\"Blue\", \"Green\", \"Orange\", \"Red\", \"Yellow\"] \n",
    "body_weights = [30, 40, 15, 5, 10]\n",
    "\n",
    "head = [\"Blue\", \"Green\", \"Red\", \"Yellow\"] \n",
    "head_weights = [30, 40, 20, 10]\n",
    "\n",
    "face = [\"Blue\", \"Green\", \"Orange\", \"Red\", \"Yellow\"] \n",
    "face_weights = [30, 40, 15, 5, 10]\n",
    "\n",
    "hair = [\"Blue\", \"Green\", \"Orange\", \"Red\", \"Yellow\"] \n",
    "hair_weights = [30, 40, 15, 5, 10]\n",
    "\n",
    "\n",
    "\n",
    "# Dictionary variable for each trait. \n",
    "# Eech trait corresponds to its file name\n",
    "\n",
    "background_files = {\n",
    "    \"Blue\": \"blue\",\n",
    "    \"Orange\": \"orange\",\n",
    "    \"Purple\": \"purple\",\n",
    "    \"Red\": \"red\",\n",
    "    \"Yellow\": \"yellow\",\n",
    "}\n",
    "\n",
    "body_files = {\n",
    "    \"Blue\": \"blue-body\",\n",
    "    \"Green\": \"green-body\",\n",
    "    \"Orange\": \"orange-body\",\n",
    "    \"Red\": \"red-body\",\n",
    "    \"Yellow\": \"yellow-body\"   \n",
    "}\n",
    "\n",
    "head_files = {\n",
    "    \"Blue\": \"blue-head\",\n",
    "    \"Green\": \"green-head\",\n",
    "    \"Red\": \"red-head\",\n",
    "    \"Yellow\": \"yellow-head\"  \n",
    "          \n",
    "}\n",
    "face_files = {\n",
    "    \"Blue\": \"blue-face\",\n",
    "    \"Green\": \"green-face\",\n",
    "    \"Orange\": \"orange-face\",\n",
    "    \"Red\": \"red-face\",\n",
    "    \"Yellow\": \"yellow-face\"  \n",
    "          \n",
    "}\n",
    "hair_files = {\n",
    "    \"Blue\": \"blue-hair\",\n",
    "    \"Green\": \"green-hair\",\n",
    "    \"Orange\": \"orange-hair\",\n",
    "    \"Red\": \"red-hair\",\n",
    "    \"Yellow\": \"yellow-hair\"  \n",
    "          \n",
    "}"
   ]
  },
  {
   "cell_type": "code",
   "execution_count": 51,
   "metadata": {},
   "outputs": [],
   "source": [
    "## Generate Traits\n",
    "\n",
    "TOTAL_IMAGES = 300 # Number of random unique images we want to generate\n",
    "\n",
    "all_images = [] \n",
    "\n",
    "# A recursive function to generate unique image combinations\n",
    "def create_new_image():\n",
    "    \n",
    "    new_image = {} #\n",
    "\n",
    "    # For each trait category, select a random trait based on the weightings \n",
    "    new_image [\"Background\"] = random.choices(background, background_weights)[0]\n",
    "    new_image [\"Body\"] = random.choices(body, body_weights)[0]\n",
    "    new_image [\"Head\"] = random.choices(head, head_weights)[0]\n",
    "    new_image [\"Face\"] = random.choices(face, face_weights)[0]\n",
    "    new_image [\"Hair\"] = random.choices(hair, hair_weights)[0]\n",
    "    \n",
    "    if new_image in all_images:\n",
    "        return create_new_image()\n",
    "    else:\n",
    "        return new_image\n",
    "    \n",
    "    \n",
    "# Generate the unique combinations based on trait weightings\n",
    "for i in range(TOTAL_IMAGES): \n",
    "    \n",
    "    new_trait_image = create_new_image()\n",
    "    \n",
    "    all_images.append(new_trait_image)\n",
    "    \n"
   ]
  },
  {
   "cell_type": "code",
   "execution_count": 52,
   "metadata": {},
   "outputs": [
    {
     "name": "stdout",
     "output_type": "stream",
     "text": [
      "Are all images unique? True\n"
     ]
    }
   ],
   "source": [
    "# Returns true if all images are unique\n",
    "def all_images_unique(all_images):\n",
    "    seen = list()\n",
    "    return not any(i in seen or seen.append(i) for i in all_images)\n",
    "\n",
    "print(\"Are all images unique?\", all_images_unique(all_images))"
   ]
  },
  {
   "cell_type": "code",
   "execution_count": 53,
   "metadata": {},
   "outputs": [],
   "source": [
    "# Add token Id to each image\n",
    "i = 0\n",
    "for item in all_images:\n",
    "    item[\"tokenId\"] = i\n",
    "    i = i + 1"
   ]
  },
  {
   "cell_type": "code",
   "execution_count": 54,
   "metadata": {
    "tags": []
   },
   "outputs": [
    {
     "name": "stdout",
     "output_type": "stream",
     "text": [
      "[{'Background': 'Blue', 'Body': 'Yellow', 'Head': 'Blue', 'Face': 'Green', 'Hair': 'Blue', 'tokenId': 0}, {'Background': 'Purple', 'Body': 'Orange', 'Head': 'Green', 'Face': 'Green', 'Hair': 'Green', 'tokenId': 1}, {'Background': 'Blue', 'Body': 'Orange', 'Head': 'Blue', 'Face': 'Green', 'Hair': 'Yellow', 'tokenId': 2}, {'Background': 'Blue', 'Body': 'Green', 'Head': 'Blue', 'Face': 'Blue', 'Hair': 'Green', 'tokenId': 3}, {'Background': 'Purple', 'Body': 'Red', 'Head': 'Green', 'Face': 'Green', 'Hair': 'Red', 'tokenId': 4}, {'Background': 'Orange', 'Body': 'Blue', 'Head': 'Blue', 'Face': 'Green', 'Hair': 'Yellow', 'tokenId': 5}, {'Background': 'Orange', 'Body': 'Green', 'Head': 'Green', 'Face': 'Blue', 'Hair': 'Green', 'tokenId': 6}, {'Background': 'Yellow', 'Body': 'Yellow', 'Head': 'Green', 'Face': 'Yellow', 'Hair': 'Blue', 'tokenId': 7}, {'Background': 'Yellow', 'Body': 'Green', 'Head': 'Green', 'Face': 'Yellow', 'Hair': 'Blue', 'tokenId': 8}, {'Background': 'Blue', 'Body': 'Green', 'Head': 'Green', 'Face': 'Green', 'Hair': 'Yellow', 'tokenId': 9}, {'Background': 'Blue', 'Body': 'Green', 'Head': 'Red', 'Face': 'Green', 'Hair': 'Green', 'tokenId': 10}, {'Background': 'Red', 'Body': 'Blue', 'Head': 'Green', 'Face': 'Red', 'Hair': 'Green', 'tokenId': 11}, {'Background': 'Purple', 'Body': 'Blue', 'Head': 'Green', 'Face': 'Green', 'Hair': 'Green', 'tokenId': 12}, {'Background': 'Blue', 'Body': 'Orange', 'Head': 'Green', 'Face': 'Yellow', 'Hair': 'Orange', 'tokenId': 13}, {'Background': 'Orange', 'Body': 'Blue', 'Head': 'Green', 'Face': 'Blue', 'Hair': 'Green', 'tokenId': 14}, {'Background': 'Purple', 'Body': 'Yellow', 'Head': 'Green', 'Face': 'Blue', 'Hair': 'Green', 'tokenId': 15}, {'Background': 'Orange', 'Body': 'Orange', 'Head': 'Red', 'Face': 'Orange', 'Hair': 'Orange', 'tokenId': 16}, {'Background': 'Blue', 'Body': 'Yellow', 'Head': 'Blue', 'Face': 'Blue', 'Hair': 'Green', 'tokenId': 17}, {'Background': 'Yellow', 'Body': 'Yellow', 'Head': 'Green', 'Face': 'Green', 'Hair': 'Orange', 'tokenId': 18}, {'Background': 'Orange', 'Body': 'Orange', 'Head': 'Blue', 'Face': 'Blue', 'Hair': 'Blue', 'tokenId': 19}, {'Background': 'Orange', 'Body': 'Green', 'Head': 'Blue', 'Face': 'Blue', 'Hair': 'Green', 'tokenId': 20}, {'Background': 'Orange', 'Body': 'Blue', 'Head': 'Red', 'Face': 'Red', 'Hair': 'Orange', 'tokenId': 21}, {'Background': 'Blue', 'Body': 'Blue', 'Head': 'Blue', 'Face': 'Orange', 'Hair': 'Green', 'tokenId': 22}, {'Background': 'Purple', 'Body': 'Green', 'Head': 'Green', 'Face': 'Orange', 'Hair': 'Green', 'tokenId': 23}, {'Background': 'Blue', 'Body': 'Green', 'Head': 'Green', 'Face': 'Blue', 'Hair': 'Green', 'tokenId': 24}, {'Background': 'Orange', 'Body': 'Green', 'Head': 'Red', 'Face': 'Yellow', 'Hair': 'Green', 'tokenId': 25}, {'Background': 'Purple', 'Body': 'Orange', 'Head': 'Yellow', 'Face': 'Blue', 'Hair': 'Green', 'tokenId': 26}, {'Background': 'Purple', 'Body': 'Green', 'Head': 'Red', 'Face': 'Green', 'Hair': 'Yellow', 'tokenId': 27}, {'Background': 'Orange', 'Body': 'Green', 'Head': 'Red', 'Face': 'Green', 'Hair': 'Orange', 'tokenId': 28}, {'Background': 'Orange', 'Body': 'Blue', 'Head': 'Yellow', 'Face': 'Orange', 'Hair': 'Green', 'tokenId': 29}, {'Background': 'Blue', 'Body': 'Orange', 'Head': 'Green', 'Face': 'Green', 'Hair': 'Green', 'tokenId': 30}, {'Background': 'Orange', 'Body': 'Blue', 'Head': 'Green', 'Face': 'Blue', 'Hair': 'Red', 'tokenId': 31}, {'Background': 'Blue', 'Body': 'Orange', 'Head': 'Yellow', 'Face': 'Green', 'Hair': 'Yellow', 'tokenId': 32}, {'Background': 'Orange', 'Body': 'Green', 'Head': 'Green', 'Face': 'Green', 'Hair': 'Green', 'tokenId': 33}, {'Background': 'Orange', 'Body': 'Orange', 'Head': 'Red', 'Face': 'Green', 'Hair': 'Green', 'tokenId': 34}, {'Background': 'Purple', 'Body': 'Blue', 'Head': 'Red', 'Face': 'Blue', 'Hair': 'Orange', 'tokenId': 35}, {'Background': 'Purple', 'Body': 'Green', 'Head': 'Red', 'Face': 'Blue', 'Hair': 'Orange', 'tokenId': 36}, {'Background': 'Yellow', 'Body': 'Green', 'Head': 'Yellow', 'Face': 'Green', 'Hair': 'Red', 'tokenId': 37}, {'Background': 'Blue', 'Body': 'Green', 'Head': 'Green', 'Face': 'Green', 'Hair': 'Blue', 'tokenId': 38}, {'Background': 'Orange', 'Body': 'Green', 'Head': 'Yellow', 'Face': 'Blue', 'Hair': 'Orange', 'tokenId': 39}, {'Background': 'Orange', 'Body': 'Blue', 'Head': 'Green', 'Face': 'Green', 'Hair': 'Orange', 'tokenId': 40}, {'Background': 'Orange', 'Body': 'Orange', 'Head': 'Green', 'Face': 'Blue', 'Hair': 'Red', 'tokenId': 41}, {'Background': 'Orange', 'Body': 'Green', 'Head': 'Yellow', 'Face': 'Red', 'Hair': 'Blue', 'tokenId': 42}, {'Background': 'Blue', 'Body': 'Green', 'Head': 'Yellow', 'Face': 'Blue', 'Hair': 'Yellow', 'tokenId': 43}, {'Background': 'Orange', 'Body': 'Blue', 'Head': 'Green', 'Face': 'Red', 'Hair': 'Orange', 'tokenId': 44}, {'Background': 'Yellow', 'Body': 'Orange', 'Head': 'Green', 'Face': 'Green', 'Hair': 'Blue', 'tokenId': 45}, {'Background': 'Orange', 'Body': 'Blue', 'Head': 'Red', 'Face': 'Orange', 'Hair': 'Green', 'tokenId': 46}, {'Background': 'Blue', 'Body': 'Blue', 'Head': 'Green', 'Face': 'Green', 'Hair': 'Green', 'tokenId': 47}, {'Background': 'Yellow', 'Body': 'Green', 'Head': 'Green', 'Face': 'Green', 'Hair': 'Blue', 'tokenId': 48}, {'Background': 'Purple', 'Body': 'Blue', 'Head': 'Green', 'Face': 'Orange', 'Hair': 'Green', 'tokenId': 49}, {'Background': 'Orange', 'Body': 'Green', 'Head': 'Yellow', 'Face': 'Orange', 'Hair': 'Orange', 'tokenId': 50}, {'Background': 'Orange', 'Body': 'Green', 'Head': 'Red', 'Face': 'Blue', 'Hair': 'Blue', 'tokenId': 51}, {'Background': 'Blue', 'Body': 'Green', 'Head': 'Green', 'Face': 'Green', 'Hair': 'Green', 'tokenId': 52}, {'Background': 'Orange', 'Body': 'Green', 'Head': 'Yellow', 'Face': 'Green', 'Hair': 'Blue', 'tokenId': 53}, {'Background': 'Purple', 'Body': 'Orange', 'Head': 'Green', 'Face': 'Blue', 'Hair': 'Blue', 'tokenId': 54}, {'Background': 'Orange', 'Body': 'Red', 'Head': 'Blue', 'Face': 'Orange', 'Hair': 'Green', 'tokenId': 55}, {'Background': 'Yellow', 'Body': 'Green', 'Head': 'Red', 'Face': 'Blue', 'Hair': 'Green', 'tokenId': 56}, {'Background': 'Orange', 'Body': 'Green', 'Head': 'Green', 'Face': 'Blue', 'Hair': 'Blue', 'tokenId': 57}, {'Background': 'Blue', 'Body': 'Green', 'Head': 'Blue', 'Face': 'Yellow', 'Hair': 'Yellow', 'tokenId': 58}, {'Background': 'Purple', 'Body': 'Green', 'Head': 'Green', 'Face': 'Green', 'Hair': 'Green', 'tokenId': 59}, {'Background': 'Orange', 'Body': 'Green', 'Head': 'Blue', 'Face': 'Green', 'Hair': 'Green', 'tokenId': 60}, {'Background': 'Purple', 'Body': 'Yellow', 'Head': 'Blue', 'Face': 'Green', 'Hair': 'Yellow', 'tokenId': 61}, {'Background': 'Purple', 'Body': 'Blue', 'Head': 'Blue', 'Face': 'Green', 'Hair': 'Blue', 'tokenId': 62}, {'Background': 'Red', 'Body': 'Green', 'Head': 'Red', 'Face': 'Green', 'Hair': 'Green', 'tokenId': 63}, {'Background': 'Orange', 'Body': 'Green', 'Head': 'Green', 'Face': 'Green', 'Hair': 'Blue', 'tokenId': 64}, {'Background': 'Blue', 'Body': 'Orange', 'Head': 'Green', 'Face': 'Orange', 'Hair': 'Red', 'tokenId': 65}, {'Background': 'Blue', 'Body': 'Blue', 'Head': 'Green', 'Face': 'Blue', 'Hair': 'Blue', 'tokenId': 66}, {'Background': 'Purple', 'Body': 'Orange', 'Head': 'Blue', 'Face': 'Orange', 'Hair': 'Orange', 'tokenId': 67}, {'Background': 'Blue', 'Body': 'Blue', 'Head': 'Blue', 'Face': 'Blue', 'Hair': 'Orange', 'tokenId': 68}, {'Background': 'Orange', 'Body': 'Blue', 'Head': 'Green', 'Face': 'Blue', 'Hair': 'Blue', 'tokenId': 69}, {'Background': 'Blue', 'Body': 'Green', 'Head': 'Blue', 'Face': 'Green', 'Hair': 'Green', 'tokenId': 70}, {'Background': 'Blue', 'Body': 'Orange', 'Head': 'Red', 'Face': 'Green', 'Hair': 'Orange', 'tokenId': 71}, {'Background': 'Orange', 'Body': 'Red', 'Head': 'Blue', 'Face': 'Green', 'Hair': 'Green', 'tokenId': 72}, {'Background': 'Orange', 'Body': 'Blue', 'Head': 'Blue', 'Face': 'Green', 'Hair': 'Orange', 'tokenId': 73}, {'Background': 'Blue', 'Body': 'Blue', 'Head': 'Blue', 'Face': 'Blue', 'Hair': 'Blue', 'tokenId': 74}, {'Background': 'Blue', 'Body': 'Blue', 'Head': 'Yellow', 'Face': 'Green', 'Hair': 'Yellow', 'tokenId': 75}, {'Background': 'Orange', 'Body': 'Blue', 'Head': 'Red', 'Face': 'Green', 'Hair': 'Green', 'tokenId': 76}, {'Background': 'Blue', 'Body': 'Green', 'Head': 'Red', 'Face': 'Yellow', 'Hair': 'Blue', 'tokenId': 77}, {'Background': 'Purple', 'Body': 'Orange', 'Head': 'Green', 'Face': 'Blue', 'Hair': 'Orange', 'tokenId': 78}, {'Background': 'Purple', 'Body': 'Green', 'Head': 'Green', 'Face': 'Green', 'Hair': 'Blue', 'tokenId': 79}, {'Background': 'Orange', 'Body': 'Yellow', 'Head': 'Green', 'Face': 'Blue', 'Hair': 'Green', 'tokenId': 80}, {'Background': 'Blue', 'Body': 'Orange', 'Head': 'Green', 'Face': 'Green', 'Hair': 'Orange', 'tokenId': 81}, {'Background': 'Orange', 'Body': 'Green', 'Head': 'Blue', 'Face': 'Green', 'Hair': 'Blue', 'tokenId': 82}, {'Background': 'Yellow', 'Body': 'Orange', 'Head': 'Green', 'Face': 'Blue', 'Hair': 'Blue', 'tokenId': 83}, {'Background': 'Orange', 'Body': 'Blue', 'Head': 'Red', 'Face': 'Blue', 'Hair': 'Blue', 'tokenId': 84}, {'Background': 'Blue', 'Body': 'Green', 'Head': 'Green', 'Face': 'Blue', 'Hair': 'Blue', 'tokenId': 85}, {'Background': 'Yellow', 'Body': 'Green', 'Head': 'Green', 'Face': 'Yellow', 'Hair': 'Green', 'tokenId': 86}, {'Background': 'Blue', 'Body': 'Orange', 'Head': 'Green', 'Face': 'Blue', 'Hair': 'Blue', 'tokenId': 87}, {'Background': 'Orange', 'Body': 'Green', 'Head': 'Yellow', 'Face': 'Green', 'Hair': 'Green', 'tokenId': 88}, {'Background': 'Blue', 'Body': 'Blue', 'Head': 'Blue', 'Face': 'Yellow', 'Hair': 'Green', 'tokenId': 89}, {'Background': 'Red', 'Body': 'Yellow', 'Head': 'Green', 'Face': 'Yellow', 'Hair': 'Green', 'tokenId': 90}, {'Background': 'Orange', 'Body': 'Green', 'Head': 'Green', 'Face': 'Blue', 'Hair': 'Yellow', 'tokenId': 91}, {'Background': 'Blue', 'Body': 'Red', 'Head': 'Green', 'Face': 'Yellow', 'Hair': 'Orange', 'tokenId': 92}, {'Background': 'Orange', 'Body': 'Yellow', 'Head': 'Green', 'Face': 'Orange', 'Hair': 'Green', 'tokenId': 93}, {'Background': 'Purple', 'Body': 'Blue', 'Head': 'Green', 'Face': 'Green', 'Hair': 'Yellow', 'tokenId': 94}, {'Background': 'Red', 'Body': 'Green', 'Head': 'Green', 'Face': 'Yellow', 'Hair': 'Blue', 'tokenId': 95}, {'Background': 'Blue', 'Body': 'Green', 'Head': 'Blue', 'Face': 'Yellow', 'Hair': 'Green', 'tokenId': 96}, {'Background': 'Blue', 'Body': 'Blue', 'Head': 'Red', 'Face': 'Yellow', 'Hair': 'Red', 'tokenId': 97}, {'Background': 'Yellow', 'Body': 'Green', 'Head': 'Blue', 'Face': 'Green', 'Hair': 'Orange', 'tokenId': 98}, {'Background': 'Red', 'Body': 'Green', 'Head': 'Green', 'Face': 'Blue', 'Hair': 'Blue', 'tokenId': 99}, {'Background': 'Blue', 'Body': 'Blue', 'Head': 'Green', 'Face': 'Blue', 'Hair': 'Red', 'tokenId': 100}, {'Background': 'Orange', 'Body': 'Blue', 'Head': 'Red', 'Face': 'Blue', 'Hair': 'Green', 'tokenId': 101}, {'Background': 'Orange', 'Body': 'Blue', 'Head': 'Red', 'Face': 'Green', 'Hair': 'Red', 'tokenId': 102}, {'Background': 'Yellow', 'Body': 'Blue', 'Head': 'Red', 'Face': 'Orange', 'Hair': 'Green', 'tokenId': 103}, {'Background': 'Blue', 'Body': 'Orange', 'Head': 'Red', 'Face': 'Red', 'Hair': 'Green', 'tokenId': 104}, {'Background': 'Purple', 'Body': 'Green', 'Head': 'Blue', 'Face': 'Yellow', 'Hair': 'Blue', 'tokenId': 105}, {'Background': 'Blue', 'Body': 'Green', 'Head': 'Yellow', 'Face': 'Yellow', 'Hair': 'Blue', 'tokenId': 106}, {'Background': 'Blue', 'Body': 'Green', 'Head': 'Yellow', 'Face': 'Red', 'Hair': 'Blue', 'tokenId': 107}, {'Background': 'Red', 'Body': 'Green', 'Head': 'Green', 'Face': 'Orange', 'Hair': 'Green', 'tokenId': 108}, {'Background': 'Purple', 'Body': 'Yellow', 'Head': 'Blue', 'Face': 'Green', 'Hair': 'Green', 'tokenId': 109}, {'Background': 'Yellow', 'Body': 'Blue', 'Head': 'Green', 'Face': 'Yellow', 'Hair': 'Yellow', 'tokenId': 110}, {'Background': 'Orange', 'Body': 'Orange', 'Head': 'Green', 'Face': 'Green', 'Hair': 'Blue', 'tokenId': 111}, {'Background': 'Orange', 'Body': 'Blue', 'Head': 'Green', 'Face': 'Yellow', 'Hair': 'Blue', 'tokenId': 112}, {'Background': 'Red', 'Body': 'Red', 'Head': 'Blue', 'Face': 'Blue', 'Hair': 'Blue', 'tokenId': 113}, {'Background': 'Purple', 'Body': 'Green', 'Head': 'Blue', 'Face': 'Yellow', 'Hair': 'Orange', 'tokenId': 114}, {'Background': 'Orange', 'Body': 'Green', 'Head': 'Yellow', 'Face': 'Yellow', 'Hair': 'Red', 'tokenId': 115}, {'Background': 'Blue', 'Body': 'Orange', 'Head': 'Blue', 'Face': 'Green', 'Hair': 'Blue', 'tokenId': 116}, {'Background': 'Orange', 'Body': 'Green', 'Head': 'Blue', 'Face': 'Green', 'Hair': 'Red', 'tokenId': 117}, {'Background': 'Purple', 'Body': 'Orange', 'Head': 'Yellow', 'Face': 'Orange', 'Hair': 'Green', 'tokenId': 118}, {'Background': 'Orange', 'Body': 'Blue', 'Head': 'Green', 'Face': 'Red', 'Hair': 'Green', 'tokenId': 119}, {'Background': 'Yellow', 'Body': 'Blue', 'Head': 'Blue', 'Face': 'Green', 'Hair': 'Red', 'tokenId': 120}, {'Background': 'Blue', 'Body': 'Yellow', 'Head': 'Red', 'Face': 'Blue', 'Hair': 'Yellow', 'tokenId': 121}, {'Background': 'Blue', 'Body': 'Yellow', 'Head': 'Green', 'Face': 'Green', 'Hair': 'Green', 'tokenId': 122}, {'Background': 'Orange', 'Body': 'Green', 'Head': 'Green', 'Face': 'Yellow', 'Hair': 'Green', 'tokenId': 123}, {'Background': 'Yellow', 'Body': 'Blue', 'Head': 'Green', 'Face': 'Blue', 'Hair': 'Blue', 'tokenId': 124}, {'Background': 'Yellow', 'Body': 'Blue', 'Head': 'Blue', 'Face': 'Blue', 'Hair': 'Red', 'tokenId': 125}, {'Background': 'Orange', 'Body': 'Green', 'Head': 'Green', 'Face': 'Red', 'Hair': 'Green', 'tokenId': 126}, {'Background': 'Blue', 'Body': 'Green', 'Head': 'Red', 'Face': 'Orange', 'Hair': 'Orange', 'tokenId': 127}, {'Background': 'Blue', 'Body': 'Red', 'Head': 'Red', 'Face': 'Blue', 'Hair': 'Blue', 'tokenId': 128}, {'Background': 'Blue', 'Body': 'Green', 'Head': 'Green', 'Face': 'Orange', 'Hair': 'Green', 'tokenId': 129}, {'Background': 'Blue', 'Body': 'Orange', 'Head': 'Yellow', 'Face': 'Blue', 'Hair': 'Blue', 'tokenId': 130}, {'Background': 'Purple', 'Body': 'Green', 'Head': 'Yellow', 'Face': 'Yellow', 'Hair': 'Orange', 'tokenId': 131}, {'Background': 'Orange', 'Body': 'Green', 'Head': 'Yellow', 'Face': 'Green', 'Hair': 'Red', 'tokenId': 132}, {'Background': 'Orange', 'Body': 'Blue', 'Head': 'Green', 'Face': 'Blue', 'Hair': 'Orange', 'tokenId': 133}, {'Background': 'Blue', 'Body': 'Blue', 'Head': 'Red', 'Face': 'Orange', 'Hair': 'Green', 'tokenId': 134}, {'Background': 'Orange', 'Body': 'Blue', 'Head': 'Green', 'Face': 'Green', 'Hair': 'Green', 'tokenId': 135}, {'Background': 'Orange', 'Body': 'Yellow', 'Head': 'Green', 'Face': 'Green', 'Hair': 'Green', 'tokenId': 136}, {'Background': 'Blue', 'Body': 'Blue', 'Head': 'Blue', 'Face': 'Green', 'Hair': 'Yellow', 'tokenId': 137}, {'Background': 'Blue', 'Body': 'Yellow', 'Head': 'Red', 'Face': 'Red', 'Hair': 'Blue', 'tokenId': 138}, {'Background': 'Orange', 'Body': 'Blue', 'Head': 'Green', 'Face': 'Blue', 'Hair': 'Yellow', 'tokenId': 139}, {'Background': 'Yellow', 'Body': 'Green', 'Head': 'Blue', 'Face': 'Orange', 'Hair': 'Green', 'tokenId': 140}, {'Background': 'Orange', 'Body': 'Green', 'Head': 'Green', 'Face': 'Blue', 'Hair': 'Orange', 'tokenId': 141}, {'Background': 'Blue', 'Body': 'Green', 'Head': 'Yellow', 'Face': 'Green', 'Hair': 'Blue', 'tokenId': 142}, {'Background': 'Blue', 'Body': 'Yellow', 'Head': 'Green', 'Face': 'Blue', 'Hair': 'Blue', 'tokenId': 143}, {'Background': 'Orange', 'Body': 'Blue', 'Head': 'Green', 'Face': 'Green', 'Hair': 'Red', 'tokenId': 144}, {'Background': 'Orange', 'Body': 'Green', 'Head': 'Yellow', 'Face': 'Blue', 'Hair': 'Green', 'tokenId': 145}, {'Background': 'Orange', 'Body': 'Orange', 'Head': 'Yellow', 'Face': 'Orange', 'Hair': 'Orange', 'tokenId': 146}, {'Background': 'Yellow', 'Body': 'Orange', 'Head': 'Red', 'Face': 'Orange', 'Hair': 'Yellow', 'tokenId': 147}, {'Background': 'Yellow', 'Body': 'Yellow', 'Head': 'Green', 'Face': 'Blue', 'Hair': 'Blue', 'tokenId': 148}, {'Background': 'Orange', 'Body': 'Yellow', 'Head': 'Green', 'Face': 'Green', 'Hair': 'Orange', 'tokenId': 149}, {'Background': 'Blue', 'Body': 'Yellow', 'Head': 'Blue', 'Face': 'Red', 'Hair': 'Yellow', 'tokenId': 150}, {'Background': 'Orange', 'Body': 'Green', 'Head': 'Red', 'Face': 'Orange', 'Hair': 'Orange', 'tokenId': 151}, {'Background': 'Orange', 'Body': 'Red', 'Head': 'Red', 'Face': 'Blue', 'Hair': 'Orange', 'tokenId': 152}, {'Background': 'Orange', 'Body': 'Blue', 'Head': 'Blue', 'Face': 'Blue', 'Hair': 'Green', 'tokenId': 153}, {'Background': 'Purple', 'Body': 'Blue', 'Head': 'Green', 'Face': 'Blue', 'Hair': 'Red', 'tokenId': 154}, {'Background': 'Purple', 'Body': 'Green', 'Head': 'Red', 'Face': 'Blue', 'Hair': 'Green', 'tokenId': 155}, {'Background': 'Purple', 'Body': 'Blue', 'Head': 'Green', 'Face': 'Yellow', 'Hair': 'Green', 'tokenId': 156}, {'Background': 'Yellow', 'Body': 'Blue', 'Head': 'Blue', 'Face': 'Blue', 'Hair': 'Orange', 'tokenId': 157}, {'Background': 'Orange', 'Body': 'Green', 'Head': 'Red', 'Face': 'Blue', 'Hair': 'Green', 'tokenId': 158}, {'Background': 'Purple', 'Body': 'Orange', 'Head': 'Green', 'Face': 'Orange', 'Hair': 'Green', 'tokenId': 159}, {'Background': 'Yellow', 'Body': 'Orange', 'Head': 'Yellow', 'Face': 'Yellow', 'Hair': 'Green', 'tokenId': 160}, {'Background': 'Orange', 'Body': 'Green', 'Head': 'Blue', 'Face': 'Blue', 'Hair': 'Blue', 'tokenId': 161}, {'Background': 'Blue', 'Body': 'Green', 'Head': 'Red', 'Face': 'Green', 'Hair': 'Blue', 'tokenId': 162}, {'Background': 'Yellow', 'Body': 'Orange', 'Head': 'Red', 'Face': 'Green', 'Hair': 'Orange', 'tokenId': 163}, {'Background': 'Orange', 'Body': 'Blue', 'Head': 'Green', 'Face': 'Green', 'Hair': 'Yellow', 'tokenId': 164}, {'Background': 'Purple', 'Body': 'Blue', 'Head': 'Green', 'Face': 'Blue', 'Hair': 'Blue', 'tokenId': 165}, {'Background': 'Blue', 'Body': 'Green', 'Head': 'Green', 'Face': 'Yellow', 'Hair': 'Blue', 'tokenId': 166}, {'Background': 'Orange', 'Body': 'Orange', 'Head': 'Red', 'Face': 'Red', 'Hair': 'Green', 'tokenId': 167}, {'Background': 'Blue', 'Body': 'Orange', 'Head': 'Yellow', 'Face': 'Green', 'Hair': 'Blue', 'tokenId': 168}, {'Background': 'Red', 'Body': 'Orange', 'Head': 'Green', 'Face': 'Blue', 'Hair': 'Green', 'tokenId': 169}, {'Background': 'Orange', 'Body': 'Yellow', 'Head': 'Blue', 'Face': 'Red', 'Hair': 'Green', 'tokenId': 170}, {'Background': 'Orange', 'Body': 'Orange', 'Head': 'Red', 'Face': 'Blue', 'Hair': 'Blue', 'tokenId': 171}, {'Background': 'Orange', 'Body': 'Yellow', 'Head': 'Blue', 'Face': 'Green', 'Hair': 'Green', 'tokenId': 172}, {'Background': 'Orange', 'Body': 'Blue', 'Head': 'Blue', 'Face': 'Green', 'Hair': 'Blue', 'tokenId': 173}, {'Background': 'Orange', 'Body': 'Blue', 'Head': 'Green', 'Face': 'Orange', 'Hair': 'Green', 'tokenId': 174}, {'Background': 'Yellow', 'Body': 'Blue', 'Head': 'Red', 'Face': 'Blue', 'Hair': 'Blue', 'tokenId': 175}, {'Background': 'Purple', 'Body': 'Orange', 'Head': 'Green', 'Face': 'Red', 'Hair': 'Blue', 'tokenId': 176}, {'Background': 'Purple', 'Body': 'Green', 'Head': 'Blue', 'Face': 'Blue', 'Hair': 'Green', 'tokenId': 177}, {'Background': 'Orange', 'Body': 'Blue', 'Head': 'Green', 'Face': 'Green', 'Hair': 'Blue', 'tokenId': 178}, {'Background': 'Yellow', 'Body': 'Green', 'Head': 'Blue', 'Face': 'Yellow', 'Hair': 'Orange', 'tokenId': 179}, {'Background': 'Purple', 'Body': 'Blue', 'Head': 'Red', 'Face': 'Blue', 'Hair': 'Green', 'tokenId': 180}, {'Background': 'Orange', 'Body': 'Blue', 'Head': 'Green', 'Face': 'Orange', 'Hair': 'Orange', 'tokenId': 181}, {'Background': 'Orange', 'Body': 'Red', 'Head': 'Green', 'Face': 'Blue', 'Hair': 'Red', 'tokenId': 182}, {'Background': 'Blue', 'Body': 'Blue', 'Head': 'Green', 'Face': 'Blue', 'Hair': 'Green', 'tokenId': 183}, {'Background': 'Blue', 'Body': 'Blue', 'Head': 'Green', 'Face': 'Green', 'Hair': 'Blue', 'tokenId': 184}, {'Background': 'Blue', 'Body': 'Orange', 'Head': 'Red', 'Face': 'Green', 'Hair': 'Blue', 'tokenId': 185}, {'Background': 'Orange', 'Body': 'Blue', 'Head': 'Yellow', 'Face': 'Green', 'Hair': 'Blue', 'tokenId': 186}, {'Background': 'Purple', 'Body': 'Green', 'Head': 'Red', 'Face': 'Green', 'Hair': 'Green', 'tokenId': 187}, {'Background': 'Blue', 'Body': 'Green', 'Head': 'Red', 'Face': 'Orange', 'Hair': 'Blue', 'tokenId': 188}, {'Background': 'Blue', 'Body': 'Blue', 'Head': 'Blue', 'Face': 'Orange', 'Hair': 'Orange', 'tokenId': 189}, {'Background': 'Blue', 'Body': 'Orange', 'Head': 'Blue', 'Face': 'Blue', 'Hair': 'Blue', 'tokenId': 190}, {'Background': 'Purple', 'Body': 'Blue', 'Head': 'Blue', 'Face': 'Orange', 'Hair': 'Orange', 'tokenId': 191}, {'Background': 'Orange', 'Body': 'Blue', 'Head': 'Blue', 'Face': 'Green', 'Hair': 'Green', 'tokenId': 192}, {'Background': 'Orange', 'Body': 'Blue', 'Head': 'Blue', 'Face': 'Yellow', 'Hair': 'Blue', 'tokenId': 193}, {'Background': 'Orange', 'Body': 'Blue', 'Head': 'Blue', 'Face': 'Blue', 'Hair': 'Blue', 'tokenId': 194}, {'Background': 'Orange', 'Body': 'Green', 'Head': 'Red', 'Face': 'Yellow', 'Hair': 'Orange', 'tokenId': 195}, {'Background': 'Purple', 'Body': 'Blue', 'Head': 'Green', 'Face': 'Blue', 'Hair': 'Yellow', 'tokenId': 196}, {'Background': 'Orange', 'Body': 'Green', 'Head': 'Red', 'Face': 'Green', 'Hair': 'Green', 'tokenId': 197}, {'Background': 'Orange', 'Body': 'Yellow', 'Head': 'Red', 'Face': 'Blue', 'Hair': 'Orange', 'tokenId': 198}, {'Background': 'Orange', 'Body': 'Red', 'Head': 'Red', 'Face': 'Blue', 'Hair': 'Green', 'tokenId': 199}, {'Background': 'Purple', 'Body': 'Green', 'Head': 'Green', 'Face': 'Blue', 'Hair': 'Blue', 'tokenId': 200}, {'Background': 'Orange', 'Body': 'Blue', 'Head': 'Yellow', 'Face': 'Green', 'Hair': 'Red', 'tokenId': 201}, {'Background': 'Orange', 'Body': 'Green', 'Head': 'Blue', 'Face': 'Red', 'Hair': 'Blue', 'tokenId': 202}, {'Background': 'Blue', 'Body': 'Orange', 'Head': 'Green', 'Face': 'Yellow', 'Hair': 'Green', 'tokenId': 203}, {'Background': 'Blue', 'Body': 'Green', 'Head': 'Blue', 'Face': 'Blue', 'Hair': 'Blue', 'tokenId': 204}, {'Background': 'Blue', 'Body': 'Green', 'Head': 'Yellow', 'Face': 'Red', 'Hair': 'Green', 'tokenId': 205}, {'Background': 'Orange', 'Body': 'Green', 'Head': 'Blue', 'Face': 'Blue', 'Hair': 'Orange', 'tokenId': 206}, {'Background': 'Orange', 'Body': 'Green', 'Head': 'Green', 'Face': 'Yellow', 'Hair': 'Orange', 'tokenId': 207}, {'Background': 'Red', 'Body': 'Orange', 'Head': 'Green', 'Face': 'Green', 'Hair': 'Red', 'tokenId': 208}, {'Background': 'Purple', 'Body': 'Green', 'Head': 'Green', 'Face': 'Yellow', 'Hair': 'Red', 'tokenId': 209}, {'Background': 'Yellow', 'Body': 'Blue', 'Head': 'Green', 'Face': 'Green', 'Hair': 'Orange', 'tokenId': 210}, {'Background': 'Red', 'Body': 'Blue', 'Head': 'Blue', 'Face': 'Green', 'Hair': 'Yellow', 'tokenId': 211}, {'Background': 'Blue', 'Body': 'Orange', 'Head': 'Yellow', 'Face': 'Green', 'Hair': 'Green', 'tokenId': 212}, {'Background': 'Orange', 'Body': 'Orange', 'Head': 'Blue', 'Face': 'Blue', 'Hair': 'Green', 'tokenId': 213}, {'Background': 'Purple', 'Body': 'Blue', 'Head': 'Green', 'Face': 'Green', 'Hair': 'Blue', 'tokenId': 214}, {'Background': 'Orange', 'Body': 'Red', 'Head': 'Blue', 'Face': 'Orange', 'Hair': 'Orange', 'tokenId': 215}, {'Background': 'Red', 'Body': 'Green', 'Head': 'Red', 'Face': 'Green', 'Hair': 'Yellow', 'tokenId': 216}, {'Background': 'Orange', 'Body': 'Green', 'Head': 'Green', 'Face': 'Orange', 'Hair': 'Blue', 'tokenId': 217}, {'Background': 'Orange', 'Body': 'Yellow', 'Head': 'Red', 'Face': 'Green', 'Hair': 'Blue', 'tokenId': 218}, {'Background': 'Red', 'Body': 'Blue', 'Head': 'Green', 'Face': 'Orange', 'Hair': 'Blue', 'tokenId': 219}, {'Background': 'Blue', 'Body': 'Blue', 'Head': 'Green', 'Face': 'Blue', 'Hair': 'Orange', 'tokenId': 220}, {'Background': 'Orange', 'Body': 'Orange', 'Head': 'Blue', 'Face': 'Orange', 'Hair': 'Green', 'tokenId': 221}, {'Background': 'Purple', 'Body': 'Blue', 'Head': 'Blue', 'Face': 'Orange', 'Hair': 'Blue', 'tokenId': 222}, {'Background': 'Orange', 'Body': 'Green', 'Head': 'Red', 'Face': 'Orange', 'Hair': 'Blue', 'tokenId': 223}, {'Background': 'Purple', 'Body': 'Green', 'Head': 'Green', 'Face': 'Yellow', 'Hair': 'Blue', 'tokenId': 224}, {'Background': 'Orange', 'Body': 'Green', 'Head': 'Red', 'Face': 'Orange', 'Hair': 'Green', 'tokenId': 225}, {'Background': 'Orange', 'Body': 'Green', 'Head': 'Yellow', 'Face': 'Orange', 'Hair': 'Blue', 'tokenId': 226}, {'Background': 'Red', 'Body': 'Blue', 'Head': 'Green', 'Face': 'Green', 'Hair': 'Green', 'tokenId': 227}, {'Background': 'Blue', 'Body': 'Blue', 'Head': 'Yellow', 'Face': 'Orange', 'Hair': 'Orange', 'tokenId': 228}, {'Background': 'Yellow', 'Body': 'Green', 'Head': 'Green', 'Face': 'Blue', 'Hair': 'Green', 'tokenId': 229}, {'Background': 'Yellow', 'Body': 'Green', 'Head': 'Green', 'Face': 'Green', 'Hair': 'Green', 'tokenId': 230}, {'Background': 'Yellow', 'Body': 'Red', 'Head': 'Green', 'Face': 'Blue', 'Hair': 'Blue', 'tokenId': 231}, {'Background': 'Blue', 'Body': 'Yellow', 'Head': 'Green', 'Face': 'Yellow', 'Hair': 'Green', 'tokenId': 232}, {'Background': 'Yellow', 'Body': 'Blue', 'Head': 'Red', 'Face': 'Green', 'Hair': 'Green', 'tokenId': 233}, {'Background': 'Blue', 'Body': 'Green', 'Head': 'Green', 'Face': 'Green', 'Hair': 'Orange', 'tokenId': 234}, {'Background': 'Orange', 'Body': 'Orange', 'Head': 'Blue', 'Face': 'Green', 'Hair': 'Blue', 'tokenId': 235}, {'Background': 'Blue', 'Body': 'Orange', 'Head': 'Green', 'Face': 'Orange', 'Hair': 'Green', 'tokenId': 236}, {'Background': 'Orange', 'Body': 'Blue', 'Head': 'Red', 'Face': 'Green', 'Hair': 'Blue', 'tokenId': 237}, {'Background': 'Yellow', 'Body': 'Orange', 'Head': 'Red', 'Face': 'Red', 'Hair': 'Orange', 'tokenId': 238}, {'Background': 'Orange', 'Body': 'Blue', 'Head': 'Red', 'Face': 'Yellow', 'Hair': 'Green', 'tokenId': 239}, {'Background': 'Blue', 'Body': 'Blue', 'Head': 'Blue', 'Face': 'Green', 'Hair': 'Orange', 'tokenId': 240}, {'Background': 'Blue', 'Body': 'Green', 'Head': 'Red', 'Face': 'Blue', 'Hair': 'Red', 'tokenId': 241}, {'Background': 'Purple', 'Body': 'Yellow', 'Head': 'Blue', 'Face': 'Yellow', 'Hair': 'Yellow', 'tokenId': 242}, {'Background': 'Blue', 'Body': 'Green', 'Head': 'Red', 'Face': 'Blue', 'Hair': 'Blue', 'tokenId': 243}, {'Background': 'Purple', 'Body': 'Orange', 'Head': 'Green', 'Face': 'Yellow', 'Hair': 'Blue', 'tokenId': 244}, {'Background': 'Orange', 'Body': 'Red', 'Head': 'Blue', 'Face': 'Blue', 'Hair': 'Green', 'tokenId': 245}, {'Background': 'Orange', 'Body': 'Yellow', 'Head': 'Green', 'Face': 'Yellow', 'Hair': 'Blue', 'tokenId': 246}, {'Background': 'Orange', 'Body': 'Green', 'Head': 'Red', 'Face': 'Yellow', 'Hair': 'Blue', 'tokenId': 247}, {'Background': 'Purple', 'Body': 'Green', 'Head': 'Blue', 'Face': 'Green', 'Hair': 'Green', 'tokenId': 248}, {'Background': 'Red', 'Body': 'Yellow', 'Head': 'Blue', 'Face': 'Yellow', 'Hair': 'Green', 'tokenId': 249}, {'Background': 'Yellow', 'Body': 'Green', 'Head': 'Red', 'Face': 'Orange', 'Hair': 'Blue', 'tokenId': 250}, {'Background': 'Blue', 'Body': 'Orange', 'Head': 'Green', 'Face': 'Green', 'Hair': 'Blue', 'tokenId': 251}, {'Background': 'Blue', 'Body': 'Blue', 'Head': 'Blue', 'Face': 'Green', 'Hair': 'Green', 'tokenId': 252}, {'Background': 'Orange', 'Body': 'Blue', 'Head': 'Yellow', 'Face': 'Green', 'Hair': 'Green', 'tokenId': 253}, {'Background': 'Blue', 'Body': 'Blue', 'Head': 'Yellow', 'Face': 'Orange', 'Hair': 'Green', 'tokenId': 254}, {'Background': 'Red', 'Body': 'Yellow', 'Head': 'Blue', 'Face': 'Yellow', 'Hair': 'Red', 'tokenId': 255}, {'Background': 'Purple', 'Body': 'Blue', 'Head': 'Blue', 'Face': 'Orange', 'Hair': 'Green', 'tokenId': 256}, {'Background': 'Purple', 'Body': 'Green', 'Head': 'Green', 'Face': 'Green', 'Hair': 'Yellow', 'tokenId': 257}, {'Background': 'Blue', 'Body': 'Green', 'Head': 'Red', 'Face': 'Blue', 'Hair': 'Green', 'tokenId': 258}, {'Background': 'Yellow', 'Body': 'Green', 'Head': 'Green', 'Face': 'Green', 'Hair': 'Orange', 'tokenId': 259}, {'Background': 'Blue', 'Body': 'Blue', 'Head': 'Red', 'Face': 'Red', 'Hair': 'Blue', 'tokenId': 260}, {'Background': 'Yellow', 'Body': 'Red', 'Head': 'Blue', 'Face': 'Green', 'Hair': 'Blue', 'tokenId': 261}, {'Background': 'Blue', 'Body': 'Green', 'Head': 'Red', 'Face': 'Red', 'Hair': 'Orange', 'tokenId': 262}, {'Background': 'Purple', 'Body': 'Blue', 'Head': 'Red', 'Face': 'Green', 'Hair': 'Orange', 'tokenId': 263}, {'Background': 'Blue', 'Body': 'Green', 'Head': 'Yellow', 'Face': 'Green', 'Hair': 'Green', 'tokenId': 264}, {'Background': 'Purple', 'Body': 'Orange', 'Head': 'Blue', 'Face': 'Yellow', 'Hair': 'Green', 'tokenId': 265}, {'Background': 'Red', 'Body': 'Yellow', 'Head': 'Green', 'Face': 'Yellow', 'Hair': 'Blue', 'tokenId': 266}, {'Background': 'Blue', 'Body': 'Blue', 'Head': 'Blue', 'Face': 'Green', 'Hair': 'Blue', 'tokenId': 267}, {'Background': 'Purple', 'Body': 'Green', 'Head': 'Red', 'Face': 'Green', 'Hair': 'Blue', 'tokenId': 268}, {'Background': 'Red', 'Body': 'Green', 'Head': 'Green', 'Face': 'Blue', 'Hair': 'Green', 'tokenId': 269}, {'Background': 'Yellow', 'Body': 'Green', 'Head': 'Green', 'Face': 'Blue', 'Hair': 'Orange', 'tokenId': 270}, {'Background': 'Purple', 'Body': 'Green', 'Head': 'Red', 'Face': 'Orange', 'Hair': 'Green', 'tokenId': 271}, {'Background': 'Blue', 'Body': 'Green', 'Head': 'Blue', 'Face': 'Green', 'Hair': 'Yellow', 'tokenId': 272}, {'Background': 'Purple', 'Body': 'Green', 'Head': 'Green', 'Face': 'Blue', 'Hair': 'Green', 'tokenId': 273}, {'Background': 'Orange', 'Body': 'Orange', 'Head': 'Green', 'Face': 'Green', 'Hair': 'Green', 'tokenId': 274}, {'Background': 'Blue', 'Body': 'Orange', 'Head': 'Blue', 'Face': 'Orange', 'Hair': 'Green', 'tokenId': 275}, {'Background': 'Blue', 'Body': 'Orange', 'Head': 'Red', 'Face': 'Blue', 'Hair': 'Orange', 'tokenId': 276}, {'Background': 'Blue', 'Body': 'Blue', 'Head': 'Red', 'Face': 'Blue', 'Hair': 'Blue', 'tokenId': 277}, {'Background': 'Purple', 'Body': 'Blue', 'Head': 'Blue', 'Face': 'Yellow', 'Hair': 'Green', 'tokenId': 278}, {'Background': 'Orange', 'Body': 'Green', 'Head': 'Blue', 'Face': 'Orange', 'Hair': 'Orange', 'tokenId': 279}, {'Background': 'Yellow', 'Body': 'Orange', 'Head': 'Yellow', 'Face': 'Green', 'Hair': 'Blue', 'tokenId': 280}, {'Background': 'Blue', 'Body': 'Green', 'Head': 'Blue', 'Face': 'Orange', 'Hair': 'Blue', 'tokenId': 281}, {'Background': 'Blue', 'Body': 'Orange', 'Head': 'Blue', 'Face': 'Yellow', 'Hair': 'Blue', 'tokenId': 282}, {'Background': 'Purple', 'Body': 'Red', 'Head': 'Red', 'Face': 'Green', 'Hair': 'Orange', 'tokenId': 283}, {'Background': 'Yellow', 'Body': 'Red', 'Head': 'Green', 'Face': 'Green', 'Hair': 'Green', 'tokenId': 284}, {'Background': 'Orange', 'Body': 'Yellow', 'Head': 'Red', 'Face': 'Red', 'Hair': 'Blue', 'tokenId': 285}, {'Background': 'Orange', 'Body': 'Green', 'Head': 'Blue', 'Face': 'Yellow', 'Hair': 'Orange', 'tokenId': 286}, {'Background': 'Yellow', 'Body': 'Green', 'Head': 'Blue', 'Face': 'Blue', 'Hair': 'Green', 'tokenId': 287}, {'Background': 'Yellow', 'Body': 'Orange', 'Head': 'Blue', 'Face': 'Yellow', 'Hair': 'Green', 'tokenId': 288}, {'Background': 'Yellow', 'Body': 'Red', 'Head': 'Green', 'Face': 'Yellow', 'Hair': 'Blue', 'tokenId': 289}, {'Background': 'Orange', 'Body': 'Blue', 'Head': 'Blue', 'Face': 'Blue', 'Hair': 'Yellow', 'tokenId': 290}, {'Background': 'Blue', 'Body': 'Blue', 'Head': 'Yellow', 'Face': 'Green', 'Hair': 'Blue', 'tokenId': 291}, {'Background': 'Purple', 'Body': 'Blue', 'Head': 'Blue', 'Face': 'Yellow', 'Hair': 'Orange', 'tokenId': 292}, {'Background': 'Yellow', 'Body': 'Green', 'Head': 'Red', 'Face': 'Blue', 'Hair': 'Blue', 'tokenId': 293}, {'Background': 'Orange', 'Body': 'Yellow', 'Head': 'Red', 'Face': 'Blue', 'Hair': 'Blue', 'tokenId': 294}, {'Background': 'Blue', 'Body': 'Green', 'Head': 'Green', 'Face': 'Orange', 'Hair': 'Orange', 'tokenId': 295}, {'Background': 'Orange', 'Body': 'Red', 'Head': 'Blue', 'Face': 'Green', 'Hair': 'Blue', 'tokenId': 296}, {'Background': 'Red', 'Body': 'Orange', 'Head': 'Blue', 'Face': 'Orange', 'Hair': 'Green', 'tokenId': 297}, {'Background': 'Red', 'Body': 'Orange', 'Head': 'Green', 'Face': 'Green', 'Hair': 'Blue', 'tokenId': 298}, {'Background': 'Purple', 'Body': 'Green', 'Head': 'Blue', 'Face': 'Orange', 'Hair': 'Green', 'tokenId': 299}]\n"
     ]
    }
   ],
   "source": [
    "print(all_images)"
   ]
  },
  {
   "cell_type": "code",
   "execution_count": 55,
   "metadata": {},
   "outputs": [
    {
     "name": "stdout",
     "output_type": "stream",
     "text": [
      "{'Blue': 85, 'Orange': 104, 'Purple': 53, 'Red': 19, 'Yellow': 39}\n",
      "{'Blue': 88, 'Green': 110, 'Orange': 55, 'Red': 17, 'Yellow': 30}\n",
      "{'Blue': 82, 'Green': 115, 'Red': 69, 'Yellow': 34}\n",
      "{'Blue': 85, 'Green': 102, 'Orange': 47, 'Red': 19, 'Yellow': 47}\n",
      "{'Blue': 93, 'Green': 106, 'Orange': 55, 'Red': 21, 'Yellow': 25}\n"
     ]
    }
   ],
   "source": [
    "# Get Trait Counts\n",
    "\n",
    "background_count = {}\n",
    "for item in background:\n",
    "    background_count[item] = 0\n",
    "    \n",
    "body_count = {}\n",
    "for item in body:\n",
    "    body_count[item] = 0\n",
    "\n",
    "head_count = {}\n",
    "for item in head:\n",
    "    head_count[item] = 0\n",
    "    \n",
    "face_count = {}\n",
    "for item in face:\n",
    "    face_count[item] = 0\n",
    "    \n",
    "hair_count = {}\n",
    "for item in hair:\n",
    "    hair_count[item] = 0\n",
    "\n",
    "for image in all_images:\n",
    "    background_count[image[\"Background\"]] += 1\n",
    "    body_count[image[\"Body\"]] += 1\n",
    "    head_count[image[\"Head\"]] += 1\n",
    "    face_count[image[\"Face\"]] += 1\n",
    "    hair_count[image[\"Hair\"]] += 1\n",
    "    \n",
    "print(background_count)\n",
    "print(body_count)\n",
    "print(head_count)\n",
    "print(face_count)\n",
    "print(hair_count)"
   ]
  },
  {
   "cell_type": "code",
   "execution_count": 56,
   "metadata": {},
   "outputs": [],
   "source": [
    "#### Generate Metadata for all Traits \n",
    "METADATA_FILE_NAME = './metadata/all-traits.json'; \n",
    "with open(METADATA_FILE_NAME, 'w') as outfile:\n",
    "    json.dump(all_images, outfile, indent=4)"
   ]
  },
  {
   "cell_type": "code",
   "execution_count": 57,
   "metadata": {},
   "outputs": [],
   "source": [
    "  \n",
    "    \n",
    "#### Generate Images    \n",
    "for item in all_images:\n",
    "\n",
    "    im1 = Image.open(f'./trait-layers/backgrounds/{background_files[item[\"Background\"]]}.png').convert('RGBA')\n",
    "    im2 = Image.open(f'./trait-layers/bodies/{body_files[item[\"Body\"]]}.png').convert('RGBA')\n",
    "    im3 = Image.open(f'./trait-layers/heads/{head_files[item[\"Head\"]]}.png').convert('RGBA')\n",
    "    im4 = Image.open(f'./trait-layers/faces/{face_files[item[\"Face\"]]}.png').convert('RGBA')\n",
    "    im5 = Image.open(f'./trait-layers/hairs/{hair_files[item[\"Hair\"]]}.png').convert('RGBA')\n",
    "\n",
    "    \n",
    "    #Create each composite\n",
    "    com1 = Image.alpha_composite(im1, im2)\n",
    "    com2 = Image.alpha_composite(com1, im3)\n",
    "    com3 = Image.alpha_composite(com2, im4)\n",
    "    com4 = Image.alpha_composite(com3, im5)\n",
    "\n",
    "    #Convert to RGB\n",
    "    rgb_im = com4.convert('RGB')\n",
    "    file_name = str(item[\"tokenId\"]) + \".png\"\n",
    "    rgb_im.save(\"./images/\" + file_name)\n",
    "    \n",
    "    \n",
    "    "
   ]
  },
  {
   "cell_type": "code",
   "execution_count": 58,
   "metadata": {},
   "outputs": [],
   "source": [
    "#### Generate Metadata for each Image    \n",
    "\n",
    "f = open('./metadata/all-traits.json',) \n",
    "data = json.load(f)\n",
    "\n",
    "\n",
    "IMAGES_BASE_URI = \"ADD_IMAGES_BASE_URI_HERE\"\n",
    "PROJECT_NAME = \"ADD_PROJECT_NAME_HERE\"\n",
    "\n",
    "def getAttribute(key, value):\n",
    "    return {\n",
    "        \"trait_type\": key,\n",
    "        \"value\": value\n",
    "    }\n",
    "for i in data:\n",
    "    token_id = i['tokenId']\n",
    "    token = {\n",
    "        \"image\": IMAGES_BASE_URI + str(token_id) + '.png',\n",
    "        \"tokenId\": token_id,\n",
    "        \"name\": PROJECT_NAME + ' ' + str(token_id),\n",
    "        \"attributes\": []\n",
    "    }\n",
    "    token[\"attributes\"].append(getAttribute(\"Background\", i[\"Background\"]))\n",
    "    token[\"attributes\"].append(getAttribute(\"Body\", i[\"Body\"]))\n",
    "    token[\"attributes\"].append(getAttribute(\"Head\", i[\"Head\"]))\n",
    "    token[\"attributes\"].append(getAttribute(\"Face\", i[\"Face\"]))\n",
    "    token[\"attributes\"].append(getAttribute(\"Hair\", i[\"Hair\"]))\n",
    "\n",
    "    with open('./metadata/' + str(token_id), 'w') as outfile:\n",
    "        json.dump(token, outfile, indent=4)\n",
    "f.close()"
   ]
  },
  {
   "cell_type": "code",
   "execution_count": null,
   "metadata": {},
   "outputs": [],
   "source": []
  }
 ],
 "metadata": {
  "interpreter": {
   "hash": "3d65f8beab89bca824669a8319117cabe601d9aca9a71aad8efeb42336828120"
  },
  "kernelspec": {
   "display_name": "Python 3 (ipykernel)",
   "language": "python",
   "name": "python3"
  },
  "language_info": {
   "codemirror_mode": {
    "name": "ipython",
    "version": 3
   },
   "file_extension": ".py",
   "mimetype": "text/x-python",
   "name": "python",
   "nbconvert_exporter": "python",
   "pygments_lexer": "ipython3",
   "version": "3.9.6"
  }
 },
 "nbformat": 4,
 "nbformat_minor": 4
}
